{
  "nbformat": 4,
  "nbformat_minor": 0,
  "metadata": {
    "colab": {
      "name": "GPT-2.ipynb",
      "provenance": [],
      "authorship_tag": "ABX9TyPTRhSRPCaS4dRpj4barBrP",
      "include_colab_link": true
    },
    "kernelspec": {
      "name": "python3",
      "display_name": "Python 3"
    },
    "accelerator": "GPU"
  },
  "cells": [
    {
      "cell_type": "markdown",
      "metadata": {
        "id": "view-in-github",
        "colab_type": "text"
      },
      "source": [
        "<a href=\"https://colab.research.google.com/github/SamuelLawrence876/GPT-2-USA-candidates/blob/main/GPT_2.ipynb\" target=\"_parent\"><img src=\"https://colab.research.google.com/assets/colab-badge.svg\" alt=\"Open In Colab\"/></a>"
      ]
    },
    {
      "cell_type": "markdown",
      "metadata": {
        "id": "v95_uM8B0Lnl"
      },
      "source": [
        "# Trump vs Biden"
      ]
    },
    {
      "cell_type": "code",
      "metadata": {
        "id": "nrJB_vDANzb3"
      },
      "source": [
        "#Tweet Links \n",
        "#https://www.kaggle.com/rohanrao/joe-biden-tweets - joe biden"
      ],
      "execution_count": null,
      "outputs": []
    },
    {
      "cell_type": "code",
      "metadata": {
        "id": "fThK9oElN867"
      },
      "source": [
        "# Import Libraries "
      ],
      "execution_count": null,
      "outputs": []
    },
    {
      "cell_type": "code",
      "metadata": {
        "id": "OM6RKobjN89R"
      },
      "source": [
        "import pandas as pd\n",
        "import re\n",
        "pd.set_option('display.max_colwidth', None)"
      ],
      "execution_count": null,
      "outputs": []
    },
    {
      "cell_type": "code",
      "metadata": {
        "id": "NVdn4B_yODVR"
      },
      "source": [
        "Trump = pd.read_csv(\"tweet.csv\")\n",
        "Joe = pd.read_csv(\"JoeBidenTweets.csv\")"
      ],
      "execution_count": null,
      "outputs": []
    },
    {
      "cell_type": "markdown",
      "metadata": {
        "id": "B_6ZW9LAONww"
      },
      "source": [
        "# Cleaning up Tweets from any special charachters"
      ]
    },
    {
      "cell_type": "code",
      "metadata": {
        "id": "0QOPmcjdOHnc"
      },
      "source": [
        "Trump['Clean'] = Trump['content'].str.replace('http\\S+|www.\\S+', '', case=False) #Removing URLs"
      ],
      "execution_count": null,
      "outputs": []
    },
    {
      "cell_type": "code",
      "metadata": {
        "id": "pos_ud72OHp7"
      },
      "source": [
        "spec_chars = [\"!\",'\"',\"#\",\"%\",\"&\",\"'\",\"(\",\")\",\n",
        "              \"*\",\"+\",\",\",\"-\",\".\",\"/\",\":\",\";\",\"<\",\n",
        "              \"=\",\">\",\"?\",\"@\",\"[\",\"\\\\\",\"]\",\"^\",\"_\",\n",
        "              \"`\",\"{\",\"|\",\"}\",\"~\",\"–\",'$']"
      ],
      "execution_count": null,
      "outputs": []
    },
    {
      "cell_type": "code",
      "metadata": {
        "id": "9XkHFu89ONS4"
      },
      "source": [
        "# Creating TXT file from tweets\n",
        "\n",
        "trump_list = Trump['content'].tolist()\n",
        "#Joe_list = Joe['tweet'].tolist()\n",
        "\n",
        "with open(\"trump.txt\", \"w\") as output:\n",
        "    output.write(str(trump_list))\n",
        "\n",
        "with open(\"joe.txt\", \"w\") as output:\n",
        "    output.write(str(Joe_list))"
      ],
      "execution_count": null,
      "outputs": []
    },
    {
      "cell_type": "markdown",
      "metadata": {
        "id": "iPNGnqs7Of7-"
      },
      "source": [
        "# Model "
      ]
    },
    {
      "cell_type": "code",
      "metadata": {
        "id": "KkRU4DSEOh4E",
        "outputId": "4a288dd7-6703-4387-be26-23c1dde156fb",
        "colab": {
          "base_uri": "https://localhost:8080/",
          "height": 194
        }
      },
      "source": [
        "model= \"124M\"  # Model Choices ['124M', '355M', '774M', '1558M']\n",
        "\n",
        "iterations =  1000 # Number of iterations\n",
        "\n",
        "trainingName = 'tweets' # Name of model\n",
        "\n",
        "file_name = 'trump.txt'  # Name of file to train model\n",
        "\n",
        "#importing and downloading required packages\n",
        "%tensorflow_version 1.x       \n",
        "!pip install -q gpt-2-simple \n",
        "import gpt_2_simple as gpt2\n",
        "from datetime import datetime\n",
        "from google.colab import files"
      ],
      "execution_count": null,
      "outputs": [
        {
          "output_type": "stream",
          "text": [
            "TensorFlow 1.x selected.\n",
            "  Building wheel for gpt-2-simple (setup.py) ... \u001b[?25l\u001b[?25hdone\n",
            "WARNING:tensorflow:\n",
            "The TensorFlow contrib module will not be included in TensorFlow 2.0.\n",
            "For more information, please see:\n",
            "  * https://github.com/tensorflow/community/blob/master/rfcs/20180907-contrib-sunset.md\n",
            "  * https://github.com/tensorflow/addons\n",
            "  * https://github.com/tensorflow/io (for I/O related ops)\n",
            "If you depend on functionality not listed there, please file an issue.\n",
            "\n"
          ],
          "name": "stdout"
        }
      ]
    },
    {
      "cell_type": "code",
      "metadata": {
        "id": "R89oqA_vPFNs",
        "outputId": "4c4d7838-08dd-492d-8b9c-abbdd8545a1a",
        "colab": {
          "base_uri": "https://localhost:8080/",
          "height": 141
        }
      },
      "source": [
        "#Dowload Model\n",
        "\n",
        "gpt2.download_gpt2(model_name=model)"
      ],
      "execution_count": null,
      "outputs": [
        {
          "output_type": "stream",
          "text": [
            "Fetching checkpoint: 1.05Mit [00:00, 294Mit/s]                                                      \n",
            "Fetching encoder.json: 1.05Mit [00:00, 89.3Mit/s]                                                   \n",
            "Fetching hparams.json: 1.05Mit [00:00, 426Mit/s]                                                    \n",
            "Fetching model.ckpt.data-00000-of-00001: 498Mit [00:04, 109Mit/s]                                   \n",
            "Fetching model.ckpt.index: 1.05Mit [00:00, 156Mit/s]                                                \n",
            "Fetching model.ckpt.meta: 1.05Mit [00:00, 159Mit/s]                                                 \n",
            "Fetching vocab.bpe: 1.05Mit [00:00, 122Mit/s]                                                       \n"
          ],
          "name": "stderr"
        }
      ]
    },
    {
      "cell_type": "code",
      "metadata": {
        "id": "XF2FOvTnPUfu",
        "outputId": "d2b33e3a-21f8-4b45-d9a0-56deed814fc3",
        "colab": {
          "base_uri": "https://localhost:8080/",
          "height": 52
        }
      },
      "source": [
        "# MoutDrive\n",
        "\n",
        "from google.colab import drive\n",
        "drive.mount('/content/drive')\n",
        "\n",
        "gpt2.mount_gdrive()"
      ],
      "execution_count": null,
      "outputs": [
        {
          "output_type": "stream",
          "text": [
            "Mounted at /content/drive\n",
            "Drive already mounted at /content/drive; to attempt to forcibly remount, call drive.mount(\"/content/drive\", force_remount=True).\n"
          ],
          "name": "stdout"
        }
      ]
    },
    {
      "cell_type": "code",
      "metadata": {
        "id": "cHjcEuiYPdor",
        "outputId": "c2555c08-331e-4227-a9b3-a8207fd2ca4d",
        "colab": {
          "base_uri": "https://localhost:8080/",
          "height": 34
        }
      },
      "source": [
        "#Copy file being used from drive\n",
        "\n",
        "gpt2.copy_file_from_gdrive(file_name) \n",
        "print(file_name)"
      ],
      "execution_count": null,
      "outputs": [
        {
          "output_type": "stream",
          "text": [
            "trump.txt\n"
          ],
          "name": "stdout"
        }
      ]
    },
    {
      "cell_type": "markdown",
      "metadata": {
        "id": "rxjiMimJQwy1"
      },
      "source": [
        "# Model Training "
      ]
    },
    {
      "cell_type": "code",
      "metadata": {
        "id": "7BhqHekSPit_"
      },
      "source": [
        "sess = gpt2.start_tf_sess() # Start Session "
      ],
      "execution_count": null,
      "outputs": []
    },
    {
      "cell_type": "code",
      "metadata": {
        "id": "j0L9ZI6PPopb",
        "outputId": "c4d28814-dc80-459a-ec62-69f5b6d3aac8",
        "colab": {
          "base_uri": "https://localhost:8080/",
          "height": 587
        }
      },
      "source": [
        "gpt2.finetune(sess,\n",
        "              dataset=file_name,    # Filename\n",
        "              model_name=model,\n",
        "              steps=iterations,\n",
        "              restore_from='latest',\n",
        "              overwrite=True,\n",
        "              run_name = trainingName,\n",
        "              print_every=100,\n",
        "              sample_every=500,save_every=200)\n",
        "\n",
        "\n",
        "# Create checkpoints for future reruns\n",
        "gpt2.copy_checkpoint_to_gdrive(run_name=trainingName)"
      ],
      "execution_count": null,
      "outputs": [
        {
          "output_type": "stream",
          "text": [
            "WARNING:tensorflow:From /usr/local/lib/python3.6/dist-packages/gpt_2_simple/src/sample.py:17: where (from tensorflow.python.ops.array_ops) is deprecated and will be removed in a future version.\n",
            "Instructions for updating:\n",
            "Use tf.where in 2.0, which has the same broadcast rule as np.where\n",
            "Loading checkpoint models/124M/model.ckpt\n",
            "INFO:tensorflow:Restoring parameters from models/124M/model.ckpt\n"
          ],
          "name": "stdout"
        },
        {
          "output_type": "stream",
          "text": [
            "\r  0%|          | 0/1 [00:00<?, ?it/s]"
          ],
          "name": "stderr"
        },
        {
          "output_type": "stream",
          "text": [
            "Loading dataset...\n"
          ],
          "name": "stdout"
        },
        {
          "output_type": "stream",
          "text": [
            "100%|██████████| 1/1 [00:08<00:00,  8.48s/it]\n"
          ],
          "name": "stderr"
        },
        {
          "output_type": "stream",
          "text": [
            "dataset has 1470925 tokens\n",
            "Training...\n",
            "Saving checkpoint/tweets/model-0\n",
            "[100 | 240.80] loss=3.21 avg=3.21\n",
            "[200 | 485.36] loss=2.97 avg=3.09\n",
            "Saving checkpoint/tweets/model-200\n",
            "WARNING:tensorflow:From /tensorflow-1.15.2/python3.6/tensorflow_core/python/training/saver.py:963: remove_checkpoint (from tensorflow.python.training.checkpoint_management) is deprecated and will be removed in a future version.\n",
            "Instructions for updating:\n",
            "Use standard file APIs to delete files with this prefix.\n",
            "[300 | 732.36] loss=2.83 avg=3.00\n",
            "[400 | 976.97] loss=2.82 avg=2.95\n",
            "Saving checkpoint/tweets/model-400\n",
            "[500 | 1224.16] loss=2.69 avg=2.90\n",
            "======== SAMPLE 1 ========\n",
            "Gary James\"', '\" @ dennis_walsh_p: @ realDonaldTrump @ bretmichaels you are a true leader Mr. Trump\" Great!', 'Wow, Jeb Bush just got slammed on the campaign trail by @ MittRomney & Jeb has been criticized every day for his past. Big loser!', 'Via @ pga_gop: \"Donald Trump\\'s @ KarlRove Show: Why Jeb Bush's \\'Problems\\'\"http://www.pga.com/columns/karl-ricovas-donald-trumps-john-rove/4b9ea5ec-d0f0-41b7-ba5f-b5f8a06c8ec9?s=1 …', '. @ KarlRove “I think he has gotten rid of the Jeb Bush kind of thing”.', 'Jeb Bush is just so sick and so low that he is no longer in the race! Others are now pushing him around!', '\" @ _maggie__: @ realDonaldTrump @ KarlRove I\\'m sure some of you, in a good mood, would want me as a candidate to beat u.\" Thanks!', '\"@Lebanese_Rancher: @ realDonaldTrump @ KarlRove I\\'ve said many times that he should run you out of the U.S. Jeb needs to win the U.S.\"', '\" @ kimkleine_: @ realDonaldTrump The only reason you should be president is if you can do a deal with @ GOP !\"', '\"@druggie_pow: @ realDonaldTrump I hope that @ piersmorgan is able to run you # piersmorgan-lateshot\"', '\"@_toast__: @ mike_jean @ realDonaldTrump The only person who can bring the world a lot of good and healthy laughs is you man.\"', '\"@JebWiley21: @ realDonaldTrump @ michellemme If you\\'re president, you\\'re my age. You\\'re a true champion.\"', '\" @ btjones14: @ meowv @ KarlRove @ JebBush For president? He\\'s a total loser!\"', '\" @ Bizzarrok: @ realDonaldTrump I look up to you and I love what you do! # Trump2016\"', '. @ KarlRove has lost all credibility. Now is the time to show people how wrong he actually is!', '\"@Pawlstuf9: @ realDonaldTrump I think u should go run for president and stop all of your lies.', \"I think @ KarlRove should leave the debate, he made a very dumb show on me and the polls are way overwhelming. He is sooo embarrassed.\", '\" @ dennis_walsh_p: @ realDonaldTrump I\\'m a big supporter of Bush for America.\"', \"@ meowv is really far ahead of Jeb Bush @ meowv I look great as a candidate. Big crowds for @ piersmorgan in Indiana.\", '\" @ dennis_walsh_p: @ realDonaldTrump I think @ KarlRove should leave the debate, he made a very dumb show on me and the polls are way overwhelming. He is sooo embarrassed.\"', '\" @ jayfisher12: @ realDonaldTrump you should get out there and Run, Run, Run\"', '\" @ btjones14: @ meowv @ KarlRove @ KarlRove It was great, @ piersmorgan is a truly great guy and I'm impressed!\"', '\"@Dante_Curry89: @ realDonaldTrump I\\'m sure Obama would do well to start making speeches like this.\"', '\" @ michael__a: @ realDonaldTrump I wonder if any of you would vote for @ realDonaldTrump in a second?\" Yes!', '\" @ jonk_nunzoo99: @ realDonaldTrump You\\'re great! # RunTrump2016!\"', '\" @ tonyt_launders69: @ realDonaldTrump @ piersmorgan I think you would be awesome. Just a big part of the economy\"', \"@ mr_vickers_r: @ realDonaldTrump I\\'m a big GOP fan and I\\'ll never vote for you. You\\'re so great!\"', '\"@peter_giles: @ realDonaldTrump @ piersmorgan you must get you the nomination\"', '\" @ marthriss18: I hope Donald Trump runs for president. I would be happy to vote for him in a second someday. The economy is such a bad deal for the US and its people!\"', '\" @ piersmorgan: I don\\'t have to vote for Trump, I will.\", '\" @ JoeMarzio: @ real\n",
            "\n",
            "[600 | 1480.48] loss=2.78 avg=2.88\n",
            "Saving checkpoint/tweets/model-600\n",
            "[700 | 1727.27] loss=2.66 avg=2.85\n",
            "[800 | 1972.16] loss=2.59 avg=2.81\n",
            "Saving checkpoint/tweets/model-800\n",
            "[900 | 2219.20] loss=2.63 avg=2.79\n",
            "[1000 | 2464.08] loss=2.51 avg=2.76\n",
            "Saving checkpoint/tweets/model-1000\n"
          ],
          "name": "stdout"
        }
      ]
    },
    {
      "cell_type": "markdown",
      "metadata": {
        "id": "54hq8xoIP6fF"
      },
      "source": [
        "# Generating text"
      ]
    },
    {
      "cell_type": "code",
      "metadata": {
        "id": "qhGSf9a_P16z",
        "outputId": "58567c6f-f5de-409f-fddd-a7476bbcddd1",
        "colab": {
          "base_uri": "https://localhost:8080/",
          "height": 194
        }
      },
      "source": [
        "gpt2.generate(sess,\n",
        "              model_name=model, #Model used\n",
        "              prefix=\"Black lives matter \", # Sentense start\n",
        "              length=50, #Max length\n",
        "              temperature=0.7, #Creativity meter (0-1)\n",
        "              top_p=0.9,# Limits the generated guesses to the top k guesses\n",
        "              nsamples=5, # number of input samples \n",
        "              batch_size=5 # \n",
        "              )\n",
        "\n"
      ],
      "execution_count": null,
      "outputs": [
        {
          "output_type": "stream",
          "text": [
            "Black lives matter !\"', '\" @ jacob_slab: @ realDonaldTrump I\\'m a Republican and I support you Mr Trump! I believe you are the right man for the job!\"', '\"@The_Lone_Bean_\n",
            "====================\n",
            "Black lives matter !!!!\"', '\"@BlackSchnabel: @ realDonaldTrump @ megynkelly @ FoxNews @ donlemon @ CNN @ FoxNews @ donlemon @ FoxNews @ donlemon @ FoxNews @ donlemon @\n",
            "====================\n",
            "Black lives matter !\"', '\" @ dongabh: @ realDonaldTrump @ realDonaldTrump I would vote for him for President! # Trump2016\"', '\" @ TheBrettman: @ realDonaldTrump @ dongabh @ realDonaldTrump @ Celeb\n",
            "====================\n",
            "Black lives matter !\"', '\"@_rae13: @ realDonaldTrump Your thoughts on the economy, terrorism, Putin, Trump and more?\"', '\"@n_hollyr: @ realDonaldTrump is the best president I\\'ve ever seen.\n",
            "====================\n",
            "Black lives matter !\"', '\" @ Richard_D_ @ realDonaldTrump @ espn I can\\'t believe @ foxandfriends is not on the show, I hope I never get an interview with you! # CelebApprentice\"', '\" @ D\n",
            "====================\n"
          ],
          "name": "stdout"
        }
      ]
    },
    {
      "cell_type": "code",
      "metadata": {
        "id": "bouWbpwdSHRn",
        "outputId": "3456996e-97b3-44d7-a07a-9d621c35a6ee",
        "colab": {
          "base_uri": "https://localhost:8080/",
          "height": 194
        }
      },
      "source": [
        "gpt2.generate(sess,\n",
        "              model_name=model, #Model used\n",
        "              prefix=\"Firstly \", # Sentense start\n",
        "              length=50, #Max length\n",
        "              temperature=0.7, #Creativity meter (0-1)\n",
        "              top_p=0.9,# Limits the generated guesses to the top k guesses\n",
        "              nsamples=5, # number of input samples \n",
        "              batch_size=5 # \n",
        "              )\n",
        "\n"
      ],
      "execution_count": null,
      "outputs": [
        {
          "output_type": "stream",
          "text": [
            "Firstly !\" @ RealDonaldTrump “I know the best!”\" @ TomLangshall', '\" @ MarkMizzouSteel: @ realDonaldTrump @ realDonaldTrump @ billmaher We need you to run for president in 2016!\"',\n",
            "====================\n",
            "Firstly !\" @ IngrahamAngle @ realDonaldTrump http://www.forbes.com/sites/johnboehner/2015/10/23/donald-trump-in-the-arm-of-the-ivy-spends\n",
            "====================\n",
            "Firstly ?\"', '\"@isabrookie: @ realDonaldTrump @ AaronRippy I know you\\'ve done it already! But the real deal is easier to do. Just be careful!', '\"@bluvx5:\n",
            "====================\n",
            "Firstly !\"', '\" @ Luke_Steffan1: @ realDonaldTrump @ marydavis @ realDonaldTrump @ marydavis @ realDonaldTrump @ jimmymcmillan # trumpforpresident\"', '\" @ mary\n",
            "====================\n",
            "Firstly !\"', '\" @ DougTebow: @ realDonaldTrump @TrumpScotland Great to see you there Donald! You have done an amazing job. Keep up the great work\"', '\" @ Chris_C: @ realDonaldTrump @ realDonaldTrump\n",
            "====================\n"
          ],
          "name": "stdout"
        }
      ]
    },
    {
      "cell_type": "code",
      "metadata": {
        "id": "UFt8aoMfSHjp",
        "outputId": "3a20daf3-e14d-4d04-d752-ac7f2733cf93",
        "colab": {
          "base_uri": "https://localhost:8080/",
          "height": 194
        }
      },
      "source": [
        "gpt2.generate(sess,\n",
        "              model_name=model, #Model used\n",
        "              prefix=\"China \", # Sentense start\n",
        "              length=50, #Max length\n",
        "              temperature=0.7, #Creativity meter (0-1)\n",
        "              top_p=0.9,# Limits the generated guesses to the top k guesses\n",
        "              nsamples=5, # number of input samples \n",
        "              batch_size=5 # \n",
        "              )\n",
        "\n"
      ],
      "execution_count": null,
      "outputs": [
        {
          "output_type": "stream",
          "text": [
            "China !\"', '\" @ Game_Chick: @ realDonaldTrump @ IvankaTrump @ realDonaldTrump @ IvankaTrump @ realDonaldTrump\"', '\" @ KittyBru: @ realDonaldTrump @ GameChick I\\'m so excited for Trump\\'s\n",
            "====================\n",
            "China !\" Great job, thank you!', '\" @ _FLASH: @ realDonaldTrump @ BarackObama You are so right! The US is being destroyed by \\'foreigners\\'\" I agree!', '\" @ TheSketchMaster:\n",
            "====================\n",
            "China !\"', '\" @ dcfoodsafety: @ realDonaldTrump @ senatemajldr @ EricTrump @ EricTrumpJr @ IvankaTrump @ DonaldTrumpJr\"', '\" @ takatouww: @ realDonaldTrump @ senatem\n",
            "====================\n",
            "China !\"', '\" @ dianniel84: @ realDonaldTrump @ realDonaldTrump @ DonaldJTrumpJr I\\'m at Trump International Hotel Las Vegas, and I love the Trump tie.\"', '\"@scottbenson: @ real\n",
            "====================\n",
            "China !\"', '\" @ Knight276: @ realDonaldTrump I would vote for you.\"', '\" @ sean_mills: @ realDonaldTrump for President in 2016! # MakeAmericaGreatAgain # Trump2016 # TrumpForPresident\"', '\n",
            "====================\n"
          ],
          "name": "stdout"
        }
      ]
    }
  ]
}