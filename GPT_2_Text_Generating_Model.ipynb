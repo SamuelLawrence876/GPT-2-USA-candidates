{
  "nbformat": 4,
  "nbformat_minor": 0,
  "metadata": {
    "colab": {
      "name": "GPT-2  - Text-Generating Model ",
      "provenance": [],
      "private_outputs": true,
      "collapsed_sections": [],
      "include_colab_link": true
    },
    "kernelspec": {
      "name": "python3",
      "display_name": "Python 3"
    },
    "accelerator": "GPU"
  },
  "cells": [
    {
      "cell_type": "markdown",
      "metadata": {
        "id": "view-in-github",
        "colab_type": "text"
      },
      "source": [
        "<a href=\"https://colab.research.google.com/github/SamuelLawrence876/GPT-2-USA-candidates/blob/main/GPT_2_Text_Generating_Model.ipynb\" target=\"_parent\"><img src=\"https://colab.research.google.com/assets/colab-badge.svg\" alt=\"Open In Colab\"/></a>"
      ]
    },
    {
      "cell_type": "code",
      "metadata": {
        "id": "CI2YeuSUA89J"
      },
      "source": [
        "#https://www.kaggle.com/rohanrao/joe-biden-tweets - joe biden"
      ],
      "execution_count": null,
      "outputs": []
    },
    {
      "cell_type": "code",
      "metadata": {
        "id": "hcd8xcai81Zn"
      },
      "source": [
        "import pandas as pd"
      ],
      "execution_count": null,
      "outputs": []
    },
    {
      "cell_type": "code",
      "metadata": {
        "id": "o4ggRIaw8243"
      },
      "source": [
        "Trump = pd.read_csv(\"tweet.csv\")\n",
        "Joe = pd.read_csv(\"JoeBidenTweets.csv\")"
      ],
      "execution_count": null,
      "outputs": []
    },
    {
      "cell_type": "code",
      "metadata": {
        "id": "on_rXYls827R"
      },
      "source": [
        "Trump.head(2)"
      ],
      "execution_count": null,
      "outputs": []
    },
    {
      "cell_type": "code",
      "metadata": {
        "id": "faQXaeROAp5o"
      },
      "source": [
        "Joe.head(2)"
      ],
      "execution_count": null,
      "outputs": []
    },
    {
      "cell_type": "code",
      "metadata": {
        "id": "bi1jrXJ8_bHJ"
      },
      "source": [
        "trump_list = Trump['content'].tolist()\n",
        "Joe_list = Joe['tweet'].tolist()"
      ],
      "execution_count": null,
      "outputs": []
    },
    {
      "cell_type": "code",
      "metadata": {
        "id": "R7cZpFJjA8LU"
      },
      "source": [
        "with open(\"trump.txt\", \"w\") as output:\n",
        "    output.write(str(trump_list))"
      ],
      "execution_count": null,
      "outputs": []
    },
    {
      "cell_type": "code",
      "metadata": {
        "id": "tQQNqM5u_bNE"
      },
      "source": [
        "with open(\"joe.txt\", \"w\") as output:\n",
        "    output.write(str(Joe_list))"
      ],
      "execution_count": null,
      "outputs": []
    },
    {
      "cell_type": "code",
      "metadata": {
        "id": "cbaPVS-s_bSQ"
      },
      "source": [
        ""
      ],
      "execution_count": null,
      "outputs": []
    },
    {
      "cell_type": "code",
      "metadata": {
        "id": "iR_IFjNx_bPw"
      },
      "source": [
        ""
      ],
      "execution_count": null,
      "outputs": []
    },
    {
      "cell_type": "markdown",
      "metadata": {
        "id": "H7LoMj4GA4n_"
      },
      "source": [
        "*Train a GPT-2 w/ GPU For Free* \n",
        "\n",
        "Original by [Max Woolf](http://minimaxir.com) modified by [Greg Raiz](http://gregraiz.com)\n",
        "\n",
        "*Last updated: September 17, 2020\n",
        "\n",
        "Retrain an advanced text generating neural network on any text dataset **for free on a GPU using Collaboratory** using `gpt-2-simple`!\n",
        "\n",
        "For more about `gpt-2-simple`, you can visit [this GitHub repository](https://github.com/minimaxir/gpt-2-simple). You can also read my [blog post](https://minimaxir.com/2019/09/howto-gpt2/) for more information how to use this notebook!\n",
        "\n",
        "\n",
        "To get started:\n",
        "\n",
        "1. Copy this notebook to your Google Drive to keep it and save your changes. (File -> Save a Copy in Drive)\n",
        "2. Make sure you're running the notebook in Google Chrome.\n",
        "3. Run the cells by clicking play between the [ &nbsp;  ] \n"
      ]
    },
    {
      "cell_type": "code",
      "metadata": {
        "id": "KBkpRgBCBS2_",
        "cellView": "both"
      },
      "source": [
        "model= \"355M\"  #@param ['124M', '355M', '774M', '1558M']\n",
        "# Note that these are millions of parameters.  \n",
        "# The 774M model is 3GB,\n",
        "# the 1558M model is 6GB. Start small, before going big.\n",
        "\n",
        "iterations =  1000#@param {type: \"number\"}\n",
        "# If we're training, how many iterations do we want?\n",
        "\n",
        "trainingName = 'tweets' #@param {type: \"string\"}   \n",
        "# Each new model you train should be named. \n",
        "\n",
        "file_name = 'trump.txt'  #@param {type: \"string\"}\n",
        "# If you have a training file in your Google drive, specify the filename\n",
        "# that will be used. \n",
        "\n",
        "\n",
        "%tensorflow_version 1.x        # This uses an older version of tensorflow\n",
        "!pip install -q gpt-2-simple   # You will get warnings but it's Ok. \n",
        "import gpt_2_simple as gpt2\n",
        "from datetime import datetime\n",
        "from google.colab import files\n"
      ],
      "execution_count": null,
      "outputs": []
    },
    {
      "cell_type": "markdown",
      "metadata": {
        "id": "Bj2IJLHP3KwE"
      },
      "source": [
        "## GPU\n",
        "\n",
        "Colaboratory uses either a Nvidia T4 GPU or an Nvidia K80 GPU. The T4 is slightly faster than the old K80 for training GPT-2, and has more memory allowing you to train the larger GPT-2 models and generate more text.\n",
        "\n",
        "You can verify which GPU is active by running the cell below."
      ]
    },
    {
      "cell_type": "code",
      "metadata": {
        "id": "sUmTooTW3osf"
      },
      "source": [
        "!nvidia-smi"
      ],
      "execution_count": null,
      "outputs": []
    },
    {
      "cell_type": "markdown",
      "metadata": {
        "id": "0wXB05bPDYxS"
      },
      "source": [
        "## Downloading GPT-2\n",
        "\n",
        "If you're retraining a model on new text, you need to download the GPT-2 model first. \n",
        "\n",
        "There are three released sizes of GPT-2:\n",
        "\n",
        "* `124M` (default): the \"small\" model, 500MB on disk.\n",
        "* `355M`: the \"medium\" model, 1.5GB on disk.\n",
        "* `774M`: the \"large\" model, cannot currently be finetuned with Colaboratory but can be used to generate text from the pretrained model (see later in Notebook)\n",
        "* `1558M`: the \"extra large\", true model. Will not work if a K80 GPU is attached to the notebook. (like `774M`, it cannot be finetuned).\n",
        "\n",
        "Larger models have more knowledge, but take longer to finetune and longer to generate text. You can specify which base model to use by changing `model_name` in the cells below.\n",
        "\n",
        "The next cell downloads it from Google Cloud Storage and saves it in the Colaboratory VM at `/models/<model_name>`.\n",
        "\n",
        "This model isn't permanently saved in the Colaboratory VM; you'll have to redownload it if you want to retrain it at a later time."
      ]
    },
    {
      "cell_type": "code",
      "metadata": {
        "id": "P8wSlgXoDPCR"
      },
      "source": [
        "# This will download the model if it hasn't been downloaded. \n",
        "# Each time you start a new Colab session you get a clean/new machine. \n",
        "# You can use the files tab on the right to see what files and models are installed and loaded\n",
        "\n",
        "gpt2.download_gpt2(model_name=model)\n"
      ],
      "execution_count": null,
      "outputs": []
    },
    {
      "cell_type": "code",
      "metadata": {
        "id": "TyJfH1bFHThf"
      },
      "source": [
        "from google.colab import drive\n",
        "drive.mount('/content/drive')"
      ],
      "execution_count": null,
      "outputs": []
    },
    {
      "cell_type": "markdown",
      "metadata": {
        "id": "N8KXuKWzQSsN"
      },
      "source": [
        "## Mounting Google Drive\n",
        "\n",
        "The best way to get input text to-be-trained into the Colaboratory VM, and to get the trained model *out* of Colaboratory, is to route it through Google Drive *first*.\n",
        "\n",
        "Running this cell (which will only work in Colaboratory) will mount your personal Google Drive in the VM, which later cells can use to get data in/out. (it will ask for an auth code; that auth is not saved anywhere)"
      ]
    },
    {
      "cell_type": "code",
      "metadata": {
        "id": "puq4iC6vUAHc"
      },
      "source": [
        "gpt2.mount_gdrive()\n",
        "# You will need to get an authorization code to connect your GDrive. \n",
        "# Copy the text, paste it and hit enter. \n"
      ],
      "execution_count": null,
      "outputs": []
    },
    {
      "cell_type": "markdown",
      "metadata": {
        "id": "BT__brhBCvJu"
      },
      "source": [
        "## Uploading a Text File to be Trained to Colaboratory\n",
        "\n",
        "In the Colaboratory Notebook sidebar on the left of the screen, select *Files*. It may look like a folder icon. \n",
        "![Screen Shot 2020-09-17 at 12.22.58 AM.png](data:image/png;base64,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)\n",
        "\n",
        "\n",
        "Upload **any smaller text file**  (<10 MB) and update the file name in the setup script. "
      ]
    },
    {
      "cell_type": "markdown",
      "metadata": {
        "id": "HeeSKtNWUedE"
      },
      "source": [
        "If your text file is larger than 10MB, it is recommended to upload that file to Google Drive first, then copy that file from Google Drive to the Colaboratory VM.  The filename is specified at the top init function. "
      ]
    },
    {
      "cell_type": "code",
      "metadata": {
        "id": "-Z6okFD8VKtS"
      },
      "source": [
        "gpt2.copy_file_from_gdrive(file_name) \n",
        "print(file_name)"
      ],
      "execution_count": null,
      "outputs": []
    },
    {
      "cell_type": "markdown",
      "metadata": {
        "id": "LdpZQXknFNY3"
      },
      "source": [
        "## Finetune GPT-2\n",
        "\n",
        "The next cell will start the actual finetuning of GPT-2. It creates a persistent TensorFlow session which stores the training config, then runs the training for the specified number of `steps`. (to have the finetuning run indefinitely, set `steps = -1`)\n",
        "\n",
        "The model checkpoints will be saved in `/checkpoint/run1` by default. The checkpoints are saved every 500 steps (can be changed) and when the cell is stopped.\n",
        "\n",
        "The training might time out after 4ish hours; make sure you end training and save the results so you don't lose them!\n",
        "\n",
        "**IMPORTANT NOTE:** If you want to rerun this cell, **restart the VM first** (Runtime -> Restart Runtime). You will need to rerun imports but not recopy files.\n",
        "\n",
        "\n",
        "\n",
        "Other optional-but-helpful parameters for `gpt2.finetune`:\n",
        "\n",
        "\n",
        "*  **`restore_from`**: Set to `fresh` to start training from the base GPT-2, or set to `latest` to restart training from an existing checkpoint.\n",
        "* **`sample_every`**: Number of steps to print example output\n",
        "* **`print_every`**: Number of steps to print training progress.\n",
        "* **`learning_rate`**:  Learning rate for the training. (default `1e-4`, can lower to `1e-5` if you have <1MB input data)\n",
        "*  **`run_name`**: subfolder within `checkpoint` to save the model. This is useful if you want to work with multiple models (will also need to specify  `run_name` when loading the model)\n",
        "* **`overwrite`**: Set to `True` if you want to continue finetuning an existing model (w/ `restore_from='latest'`) without creating duplicate copies. "
      ]
    },
    {
      "cell_type": "code",
      "metadata": {
        "id": "aeXshJM-Cuaf"
      },
      "source": [
        "sess = gpt2.start_tf_sess()\n",
        "gpt2.finetune(sess,\n",
        "              dataset=file_name,    # Filename, Model and Training Name are specified in the Init Function\n",
        "              model_name=model,\n",
        "              steps=iterations,\n",
        "              restore_from='latest',\n",
        "              overwrite=True,\n",
        "              run_name = trainingName,\n",
        "              print_every=100,\n",
        "              sample_every=200,save_every=500)\n",
        "## After it runs, save it to GDrive so we can get it for future runs. \n",
        "gpt2.copy_checkpoint_to_gdrive(run_name=trainingName)"
      ],
      "execution_count": null,
      "outputs": []
    },
    {
      "cell_type": "markdown",
      "metadata": {
        "id": "IXSuTNERaw6K"
      },
      "source": [
        "After the model is trained, it gets copied to your Google Drive. This is done because the Colab files will go away  once you disconnect from the session. The checkpoint folder is copied as a `.rar` compressed file; you can download it and uncompress it locally if needed.\n",
        "\n",
        "Once a model is trained you can also run it on your local computer, it's strongly recommended you copy it to Drive first, then download from there. "
      ]
    },
    {
      "cell_type": "markdown",
      "metadata": {
        "id": "qQJgV_b4bmzd"
      },
      "source": [
        "You're done! Feel free to go to the **Generate Text From The Trained Model** section to generate text based on your retrained model."
      ]
    },
    {
      "cell_type": "markdown",
      "metadata": {
        "id": "pel-uBULXO2L"
      },
      "source": [
        "## Load a Trained Model Checkpoint\n",
        "\n",
        "Running the next cell will copy the `.rar` checkpoint file from your Google Drive into the Colaboratory VM.  If you just generated the model, you don't have to run this but it doesn't hurt anything. "
      ]
    },
    {
      "cell_type": "code",
      "metadata": {
        "id": "DCcx5u7sbPTD"
      },
      "source": [
        "gpt2.copy_checkpoint_from_gdrive(run_name=trainingName)"
      ],
      "execution_count": null,
      "outputs": []
    },
    {
      "cell_type": "markdown",
      "metadata": {
        "id": "RTa6zf3e_9gV"
      },
      "source": [
        "The next cell will allow you to load the retrained model checkpoint + metadata necessary to generate text.\n",
        "\n",
        "**IMPORTANT NOTE:** If you want to rerun this cell, **restart the VM first** (Runtime -> Restart Runtime). You will need to rerun imports from step one, but not recopy files."
      ]
    },
    {
      "cell_type": "code",
      "metadata": {
        "id": "-fxL77nvAMAX"
      },
      "source": [
        "sess = gpt2.start_tf_sess()\n",
        "#gpt2.load_gpt2(sess, run_name=trainingName)"
      ],
      "execution_count": null,
      "outputs": []
    },
    {
      "cell_type": "markdown",
      "metadata": {
        "id": "ClJwpF_ACONp"
      },
      "source": [
        "## Generate Text From The Trained Model\n",
        "\n",
        "After you've trained the model or loaded a retrained model from checkpoint, you can now generate text. `generate` generates a single text from the loaded model."
      ]
    },
    {
      "cell_type": "code",
      "metadata": {
        "id": "aLiKTrKpULun"
      },
      "source": [
        "gpt2.generate(sess, length=250,temperature=0.7,prefix=\"T\",nsamples=5,batch_size=5)"
      ],
      "execution_count": null,
      "outputs": []
    },
    {
      "cell_type": "code",
      "metadata": {
        "id": "4RNY6RBI9LmL"
      },
      "source": [
        "text_creativity = 70 #@param {type: \"slider\", min: 50, max: 100}\n",
        "# Changes how wacky the text gets. \n",
        "gpt2.generate(sess, run_name=trainingName,temperature=(text_creativity/100))\n"
      ],
      "execution_count": null,
      "outputs": []
    },
    {
      "cell_type": "markdown",
      "metadata": {
        "id": "oF4-PqF0Fl7R"
      },
      "source": [
        "If you're creating an API based on your model and need to pass the generated text elsewhere, you can do `text = gpt2.generate(sess, return_as_list=True)[0]`\n",
        "\n",
        "You can also pass in a `prefix` to the generate function to force the text to start with a given character sequence and generate text from there (good if you add an indicator when the text starts).\n",
        "\n",
        "You can also generate multiple texts at a time by specifing `nsamples`. Unique to GPT-2, you can pass a `batch_size` to generate multiple samples in parallel, giving a massive speedup (in Colaboratory, set a maximum of 20 for `batch_size`).\n",
        "\n",
        "Other optional-but-helpful parameters for `gpt2.generate` and friends:\n",
        "\n",
        "*  **`length`**: Number of tokens to generate (default 1023, the maximum)\n",
        "* **`temperature`**: The higher the temperature, the crazier the text (default 0.7, recommended to keep between 0.7 and 1.0)\n",
        "* **`top_k`**: Limits the generated guesses to the top *k* guesses (default 0 which disables the behavior; if the generated output is super crazy, you may want to set `top_k=40`)\n",
        "* **`top_p`**: Nucleus sampling: limits the generated guesses to a cumulative probability. (gets good results on a dataset with `top_p=0.9`)\n",
        "* **`truncate`**: Truncates the input text until a given sequence, excluding that sequence (e.g. if `truncate='<|endoftext|>'`, the returned text will include everything before the first `<|endoftext|>`). It may be useful to combine this with a smaller `length` if the input texts are short.\n",
        "*  **`include_prefix`**: If using `truncate` and `include_prefix=False`, the specified `prefix` will not be included in the returned text."
      ]
    },
    {
      "cell_type": "code",
      "metadata": {
        "id": "8DKMc0fiej4N"
      },
      "source": [
        "gpt2.generate(sess, \n",
        "              run_name=trainingName,\n",
        "              length=150,\n",
        "              prefix=\"I once saw a cow\",\n",
        "              nsamples=5,\n",
        "              batch_size=5\n",
        "              )"
      ],
      "execution_count": null,
      "outputs": []
    },
    {
      "cell_type": "markdown",
      "metadata": {
        "id": "zjjEN2Tafhl2"
      },
      "source": [
        "For bulk generation, you can generate a large amount of text to a file and sort out the samples locally on your computer. The next cell will generate a generated text file with a unique timestamp.\n",
        "\n",
        "You can rerun the cells as many times as you want for even more generated texts!"
      ]
    },
    {
      "cell_type": "code",
      "metadata": {
        "id": "Fa6p6arifSL0"
      },
      "source": [
        "gen_file = 'gpt2_gentext_{:%Y%m%d_%H%M%S}.txt'.format(datetime.utcnow())\n",
        "\n",
        "gpt2.generate_to_file(sess, \n",
        "              run_name=trainingName,\n",
        "              destination_path=gen_file,\n",
        "              temperature=0.7,\n",
        "              length=500,\n",
        "              nsamples=100,\n",
        "              batch_size=20\n",
        "              )\n"
      ],
      "execution_count": null,
      "outputs": []
    },
    {
      "cell_type": "code",
      "metadata": {
        "id": "0-LRex8lfv1g"
      },
      "source": [
        "# may have to run twice to get file to download\n",
        "files.download(gen_file)"
      ],
      "execution_count": null,
      "outputs": []
    },
    {
      "cell_type": "markdown",
      "metadata": {
        "id": "QQAN3M6RT7Kj"
      },
      "source": [
        "## Generate Text From The Pretrained Model\n",
        "\n",
        "If you want to generate text from the pretrained model, not a finetuned model, pass `model_name` to `gpt2.load_gpt2()` and `gpt2.generate()`.\n",
        "\n",
        "This is currently the only way to generate text from the 774M or 1558M models with this notebook.  You may need to restart the model to have it load this. "
      ]
    },
    {
      "cell_type": "code",
      "metadata": {
        "id": "BAe4NpKNUj2C"
      },
      "source": [
        "sess = gpt2.start_tf_sess()\n",
        "\n",
        "gpt2.load_gpt2(sess, model_name=model,run_name=trainingName)"
      ],
      "execution_count": null,
      "outputs": []
    },
    {
      "cell_type": "code",
      "metadata": {
        "id": "-xInIZKaU104"
      },
      "source": [
        "gpt2.generate(sess,\n",
        "              model_name=model,\n",
        "              prefix=\"What do you call an entrepreneur\",\n",
        "              length=50,\n",
        "              temperature=0.7,\n",
        "              top_p=0.9,\n",
        "              nsamples=5,  \n",
        "              batch_size=5\n",
        "              )\n",
        "\n"
      ],
      "execution_count": null,
      "outputs": []
    },
    {
      "cell_type": "markdown",
      "metadata": {
        "id": "ig-KVgkCDCKD"
      },
      "source": [
        "# Etcetera\n",
        "\n",
        "If the notebook has errors (e.g. GPU Sync Fail), force-kill the Colaboratory virtual machine and restart it with the command below:"
      ]
    },
    {
      "cell_type": "code",
      "metadata": {
        "id": "rIHiVP53FnsX"
      },
      "source": [
        "!kill -9 -1"
      ],
      "execution_count": null,
      "outputs": []
    },
    {
      "cell_type": "markdown",
      "metadata": {
        "id": "wmTXWNUygS5E"
      },
      "source": [
        "# LICENSE\n",
        "\n",
        "MIT License\n",
        "\n",
        "Copyright (c) 2019 Max Woolf\n",
        "\n",
        "Permission is hereby granted, free of charge, to any person obtaining a copy\n",
        "of this software and associated documentation files (the \"Software\"), to deal\n",
        "in the Software without restriction, including without limitation the rights\n",
        "to use, copy, modify, merge, publish, distribute, sublicense, and/or sell\n",
        "copies of the Software, and to permit persons to whom the Software is\n",
        "furnished to do so, subject to the following conditions:\n",
        "\n",
        "The above copyright notice and this permission notice shall be included in all\n",
        "copies or substantial portions of the Software.\n",
        "\n",
        "THE SOFTWARE IS PROVIDED \"AS IS\", WITHOUT WARRANTY OF ANY KIND, EXPRESS OR\n",
        "IMPLIED, INCLUDING BUT NOT LIMITED TO THE WARRANTIES OF MERCHANTABILITY,\n",
        "FITNESS FOR A PARTICULAR PURPOSE AND NONINFRINGEMENT. IN NO EVENT SHALL THE\n",
        "AUTHORS OR COPYRIGHT HOLDERS BE LIABLE FOR ANY CLAIM, DAMAGES OR OTHER\n",
        "LIABILITY, WHETHER IN AN ACTION OF CONTRACT, TORT OR OTHERWISE, ARISING FROM,\n",
        "OUT OF OR IN CONNECTION WITH THE SOFTWARE OR THE USE OR OTHER DEALINGS IN THE\n",
        "SOFTWARE."
      ]
    }
  ]
}